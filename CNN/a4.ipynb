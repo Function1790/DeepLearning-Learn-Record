{
 "cells": [
  {
   "cell_type": "code",
   "execution_count": null,
   "metadata": {},
   "outputs": [],
   "source": [
    "from tensorflow import keras as k\n",
    "from tensorflow.keras.layers import *\n",
    "import matplotlib.pyplot as plt"
   ]
  },
  {
   "cell_type": "code",
   "execution_count": 33,
   "metadata": {},
   "outputs": [
    {
     "name": "stdout",
     "output_type": "stream",
     "text": [
      "(60000, 28, 28, 1) (60000,)\n"
     ]
    }
   ],
   "source": [
    "(x, y), _ = k.datasets.mnist.load_data()\n",
    "y_train=pd.get_dummies(y)\n",
    "x = x.reshape(60000, 28, 28, 1)\n",
    "print(x.shape, y.shape)"
   ]
  },
  {
   "cell_type": "code",
   "execution_count": 34,
   "metadata": {},
   "outputs": [],
   "source": [
    "X = Input(shape=[28, 28, 1])\n",
    "H = Conv2D(6, kernel_size=5, padding=\"same\", activation=\"swish\")(X)\n",
    "H = MaxPool2D()(H)\n",
    "H = Conv2D(16, kernel_size=5, activation=\"swish\")(X)\n",
    "H = MaxPool2D()(H)\n",
    "H = Flatten()(H)\n",
    "H = Dense(120, activation='swish')(H)\n",
    "H = Dense(84, activation='swish')(H)\n",
    "Y = Dense(10, activation='softmax')(H)\n",
    "model = k.models.Model(X, Y)"
   ]
  },
  {
   "cell_type": "code",
   "execution_count": null,
   "metadata": {},
   "outputs": [],
   "source": [
    "model.compile(loss='categorical_crossentropy', metrics=['accuracy'])\n",
    "model.fit(x, y_train, epochs=10)"
   ]
  },
  {
   "cell_type": "code",
   "execution_count": null,
   "metadata": {},
   "outputs": [],
   "source": [
    "model.evaluate(x, y_train)"
   ]
  }
 ],
 "metadata": {
  "kernelspec": {
   "display_name": "Python 3",
   "language": "python",
   "name": "python3"
  },
  "language_info": {
   "codemirror_mode": {
    "name": "ipython",
    "version": 3
   },
   "file_extension": ".py",
   "mimetype": "text/x-python",
   "name": "python",
   "nbconvert_exporter": "python",
   "pygments_lexer": "ipython3",
   "version": "3.11.2"
  }
 },
 "nbformat": 4,
 "nbformat_minor": 2
}
