{
 "cells": [
  {
   "cell_type": "code",
   "execution_count": 39,
   "metadata": {},
   "outputs": [],
   "source": [
    "from tensorflow import keras as k\n",
    "from tensorflow.keras.layers import *\n",
    "from tensorflow.keras.preprocessing import image\n",
    "from tensorflow.image import pad_to_bounding_box\n",
    "from tensorflow.image import central_crop\n",
    "from tensorflow.image import resize\n",
    "import pandas as pd\n",
    "import matplotlib.pyplot as plt\n",
    "import glob\n",
    "import numpy as np"
   ]
  },
  {
   "cell_type": "code",
   "execution_count": null,
   "metadata": {},
   "outputs": [],
   "source": [
    "def resizeImg(path, target_height, target_width):\n",
    "    bgd = image.load_img(path)\n",
    "    bgd_vector = np.asarray(image.img_to_array(bgd))\n",
    "    bgd_vector = bgd_vector / 255\n",
    "\n",
    "    source_height = bgd_vector.shape[0]\n",
    "    source_width = bgd_vector.shape[1]\n",
    "\n",
    "    bgd_vector_pad = pad_to_bounding_box(\n",
    "        bgd_vector,\n",
    "        int((target_height - source_height) / 2),\n",
    "        int((target_width - source_width) / 2),\n",
    "        target_height,\n",
    "        target_width,\n",
    "    )\n",
    "    return bgd_vector_pad"
   ]
  },
  {
   "cell_type": "code",
   "execution_count": 57,
   "metadata": {},
   "outputs": [],
   "source": [
    "paths = glob.glob(\"./img/*/*.jpg\")\n",
    "paths = np.random.permutation(paths)\n",
    "x = []\n",
    "for i in paths:\n",
    "    bgd = image.load_img(i)\n",
    "    bgd_vector = np.asarray(image.img_to_array(bgd))\n",
    "    bgd_vector = bgd_vector / 255\n",
    "\n",
    "    target_height = 400\n",
    "    target_width = 400\n",
    "\n",
    "    source_height = bgd_vector.shape[0]\n",
    "    source_width = bgd_vector.shape[1]\n",
    "\n",
    "    bgd_vector_pad = pad_to_bounding_box(\n",
    "        bgd_vector,\n",
    "        int((target_height - source_height) / 2),\n",
    "        int((target_width - source_width) / 2),\n",
    "        target_height,\n",
    "        target_width,\n",
    "    )\n",
    "    x.append(bgd_vector_pad)\n",
    "\n",
    "x = np.array(x)\n",
    "y = np.array([i.split(\"\\\\\")[1] for i in paths])"
   ]
  },
  {
   "cell_type": "code",
   "execution_count": 61,
   "metadata": {},
   "outputs": [
    {
     "name": "stdout",
     "output_type": "stream",
     "text": [
      "(34, 400, 400, 3) (34, 2)\n"
     ]
    }
   ],
   "source": [
    "y = pd.get_dummies(y)\n",
    "print(x.shape, y.shape)"
   ]
  },
  {
   "cell_type": "code",
   "execution_count": 69,
   "metadata": {},
   "outputs": [],
   "source": [
    "X = Input(shape=[400, 400, 3])\n",
    "H = Conv2D(10, kernel_size=5, activation=\"swish\")(X)\n",
    "H = MaxPool2D()(H)\n",
    "H = Conv2D(20, kernel_size=5, activation=\"swish\")(H)\n",
    "H = MaxPool2D()(H)\n",
    "H = Flatten()(H)\n",
    "H = Dense(120, activation=\"swish\")(H)\n",
    "H = Dense(84, activation=\"swish\")(H)\n",
    "Y = Dense(2, activation=\"softmax\")(H)\n",
    "model = k.models.Model(X, Y)"
   ]
  },
  {
   "cell_type": "code",
   "execution_count": 72,
   "metadata": {},
   "outputs": [
    {
     "name": "stdout",
     "output_type": "stream",
     "text": [
      "Epoch 1/30\n",
      "2/2 [==============================] - 1s 140ms/step - loss: 0.9707 - accuracy: 0.5000\n",
      "Epoch 2/30\n",
      "2/2 [==============================] - 1s 136ms/step - loss: 0.9029 - accuracy: 0.7353\n",
      "Epoch 3/30\n",
      "2/2 [==============================] - 1s 140ms/step - loss: 1.0772 - accuracy: 0.5294\n",
      "Epoch 4/30\n",
      "2/2 [==============================] - 1s 140ms/step - loss: 1.2894 - accuracy: 0.5000\n",
      "Epoch 5/30\n",
      "2/2 [==============================] - 1s 137ms/step - loss: 0.5148 - accuracy: 0.7941\n",
      "Epoch 6/30\n",
      "2/2 [==============================] - 1s 143ms/step - loss: 0.5558 - accuracy: 0.6176\n",
      "Epoch 7/30\n",
      "2/2 [==============================] - 1s 140ms/step - loss: 0.4309 - accuracy: 0.7941\n",
      "Epoch 8/30\n",
      "2/2 [==============================] - 1s 137ms/step - loss: 0.4280 - accuracy: 0.8529\n",
      "Epoch 9/30\n",
      "2/2 [==============================] - 1s 136ms/step - loss: 0.9536 - accuracy: 0.5000\n",
      "Epoch 10/30\n",
      "2/2 [==============================] - 1s 135ms/step - loss: 0.5208 - accuracy: 0.6765\n",
      "Epoch 11/30\n",
      "2/2 [==============================] - 1s 139ms/step - loss: 0.4433 - accuracy: 0.7647\n",
      "Epoch 12/30\n",
      "2/2 [==============================] - 1s 139ms/step - loss: 0.3469 - accuracy: 0.9118\n",
      "Epoch 13/30\n",
      "2/2 [==============================] - 1s 139ms/step - loss: 0.6625 - accuracy: 0.6471\n",
      "Epoch 14/30\n",
      "2/2 [==============================] - 1s 139ms/step - loss: 0.3143 - accuracy: 0.9412\n",
      "Epoch 15/30\n",
      "2/2 [==============================] - 1s 135ms/step - loss: 0.3595 - accuracy: 0.8529\n",
      "Epoch 16/30\n",
      "2/2 [==============================] - 1s 141ms/step - loss: 0.3407 - accuracy: 0.7647\n",
      "Epoch 17/30\n",
      "2/2 [==============================] - 1s 142ms/step - loss: 0.4632 - accuracy: 0.7059\n",
      "Epoch 18/30\n",
      "2/2 [==============================] - 1s 139ms/step - loss: 0.5116 - accuracy: 0.6765\n",
      "Epoch 19/30\n",
      "2/2 [==============================] - 1s 137ms/step - loss: 0.2314 - accuracy: 0.9412\n",
      "Epoch 20/30\n",
      "2/2 [==============================] - 1s 139ms/step - loss: 0.2438 - accuracy: 0.9118\n",
      "Epoch 21/30\n",
      "2/2 [==============================] - 1s 141ms/step - loss: 0.3018 - accuracy: 0.8824\n",
      "Epoch 22/30\n",
      "2/2 [==============================] - 1s 135ms/step - loss: 0.3248 - accuracy: 0.8235\n",
      "Epoch 23/30\n",
      "2/2 [==============================] - 1s 134ms/step - loss: 0.2249 - accuracy: 0.9706\n",
      "Epoch 24/30\n",
      "2/2 [==============================] - 1s 133ms/step - loss: 0.2224 - accuracy: 0.9706\n",
      "Epoch 25/30\n",
      "2/2 [==============================] - 1s 138ms/step - loss: 0.5846 - accuracy: 0.7941\n",
      "Epoch 26/30\n",
      "2/2 [==============================] - 1s 139ms/step - loss: 0.1201 - accuracy: 0.9706\n",
      "Epoch 27/30\n",
      "2/2 [==============================] - 1s 137ms/step - loss: 0.0778 - accuracy: 1.0000\n",
      "Epoch 28/30\n",
      "2/2 [==============================] - 1s 141ms/step - loss: 0.2335 - accuracy: 0.9118\n",
      "Epoch 29/30\n",
      "2/2 [==============================] - 1s 139ms/step - loss: 0.1003 - accuracy: 0.9706\n",
      "Epoch 30/30\n",
      "2/2 [==============================] - 1s 135ms/step - loss: 0.1833 - accuracy: 0.9118\n"
     ]
    },
    {
     "data": {
      "text/plain": [
       "<keras.src.callbacks.History at 0x200cf9de090>"
      ]
     },
     "execution_count": 72,
     "metadata": {},
     "output_type": "execute_result"
    }
   ],
   "source": [
    "model.compile(loss=\"categorical_crossentropy\", metrics=[\"accuracy\"])\n",
    "model.fit(x, y, epochs=30)"
   ]
  },
  {
   "cell_type": "code",
   "execution_count": 76,
   "metadata": {},
   "outputs": [
    {
     "ename": "ValueError",
     "evalue": "in user code:\n\n    File \"c:\\Users\\이재헌\\AppData\\Local\\Programs\\Python\\Python311\\Lib\\site-packages\\keras\\src\\engine\\training.py\", line 2440, in predict_function  *\n        return step_function(self, iterator)\n    File \"c:\\Users\\이재헌\\AppData\\Local\\Programs\\Python\\Python311\\Lib\\site-packages\\keras\\src\\engine\\training.py\", line 2425, in step_function  **\n        outputs = model.distribute_strategy.run(run_step, args=(data,))\n    File \"c:\\Users\\이재헌\\AppData\\Local\\Programs\\Python\\Python311\\Lib\\site-packages\\keras\\src\\engine\\training.py\", line 2413, in run_step  **\n        outputs = model.predict_step(data)\n    File \"c:\\Users\\이재헌\\AppData\\Local\\Programs\\Python\\Python311\\Lib\\site-packages\\keras\\src\\engine\\training.py\", line 2381, in predict_step\n        return self(x, training=False)\n    File \"c:\\Users\\이재헌\\AppData\\Local\\Programs\\Python\\Python311\\Lib\\site-packages\\keras\\src\\utils\\traceback_utils.py\", line 70, in error_handler\n        raise e.with_traceback(filtered_tb) from None\n    File \"c:\\Users\\이재헌\\AppData\\Local\\Programs\\Python\\Python311\\Lib\\site-packages\\keras\\src\\engine\\input_spec.py\", line 298, in assert_input_compatibility\n        raise ValueError(\n\n    ValueError: Input 0 of layer \"model_2\" is incompatible with the layer: expected shape=(None, 400, 400, 3), found shape=(None, 500, 3)\n",
     "output_type": "error",
     "traceback": [
      "\u001b[1;31m---------------------------------------------------------------------------\u001b[0m",
      "\u001b[1;31mValueError\u001b[0m                                Traceback (most recent call last)",
      "Cell \u001b[1;32mIn[76], line 2\u001b[0m\n\u001b[0;32m      1\u001b[0m cat \u001b[38;5;241m=\u001b[39m plt\u001b[38;5;241m.\u001b[39mimread(\u001b[38;5;124m'\u001b[39m\u001b[38;5;124m./cat.jpg\u001b[39m\u001b[38;5;124m'\u001b[39m)\n\u001b[1;32m----> 2\u001b[0m \u001b[38;5;28mprint\u001b[39m(\u001b[43mmodel\u001b[49m\u001b[38;5;241;43m.\u001b[39;49m\u001b[43mpredict\u001b[49m\u001b[43m(\u001b[49m\u001b[43m[\u001b[49m\u001b[43mcat\u001b[49m\u001b[43m]\u001b[49m\u001b[43m)\u001b[49m)\n",
      "File \u001b[1;32mc:\\Users\\이재헌\\AppData\\Local\\Programs\\Python\\Python311\\Lib\\site-packages\\keras\\src\\utils\\traceback_utils.py:70\u001b[0m, in \u001b[0;36mfilter_traceback.<locals>.error_handler\u001b[1;34m(*args, **kwargs)\u001b[0m\n\u001b[0;32m     67\u001b[0m     filtered_tb \u001b[38;5;241m=\u001b[39m _process_traceback_frames(e\u001b[38;5;241m.\u001b[39m__traceback__)\n\u001b[0;32m     68\u001b[0m     \u001b[38;5;66;03m# To get the full stack trace, call:\u001b[39;00m\n\u001b[0;32m     69\u001b[0m     \u001b[38;5;66;03m# `tf.debugging.disable_traceback_filtering()`\u001b[39;00m\n\u001b[1;32m---> 70\u001b[0m     \u001b[38;5;28;01mraise\u001b[39;00m e\u001b[38;5;241m.\u001b[39mwith_traceback(filtered_tb) \u001b[38;5;28;01mfrom\u001b[39;00m \u001b[38;5;28;01mNone\u001b[39;00m\n\u001b[0;32m     71\u001b[0m \u001b[38;5;28;01mfinally\u001b[39;00m:\n\u001b[0;32m     72\u001b[0m     \u001b[38;5;28;01mdel\u001b[39;00m filtered_tb\n",
      "File \u001b[1;32m~\\AppData\\Local\\Temp\\__autograph_generated_filew85m785r.py:15\u001b[0m, in \u001b[0;36mouter_factory.<locals>.inner_factory.<locals>.tf__predict_function\u001b[1;34m(iterator)\u001b[0m\n\u001b[0;32m     13\u001b[0m \u001b[38;5;28;01mtry\u001b[39;00m:\n\u001b[0;32m     14\u001b[0m     do_return \u001b[38;5;241m=\u001b[39m \u001b[38;5;28;01mTrue\u001b[39;00m\n\u001b[1;32m---> 15\u001b[0m     retval_ \u001b[38;5;241m=\u001b[39m ag__\u001b[38;5;241m.\u001b[39mconverted_call(ag__\u001b[38;5;241m.\u001b[39mld(step_function), (ag__\u001b[38;5;241m.\u001b[39mld(\u001b[38;5;28mself\u001b[39m), ag__\u001b[38;5;241m.\u001b[39mld(iterator)), \u001b[38;5;28;01mNone\u001b[39;00m, fscope)\n\u001b[0;32m     16\u001b[0m \u001b[38;5;28;01mexcept\u001b[39;00m:\n\u001b[0;32m     17\u001b[0m     do_return \u001b[38;5;241m=\u001b[39m \u001b[38;5;28;01mFalse\u001b[39;00m\n",
      "\u001b[1;31mValueError\u001b[0m: in user code:\n\n    File \"c:\\Users\\이재헌\\AppData\\Local\\Programs\\Python\\Python311\\Lib\\site-packages\\keras\\src\\engine\\training.py\", line 2440, in predict_function  *\n        return step_function(self, iterator)\n    File \"c:\\Users\\이재헌\\AppData\\Local\\Programs\\Python\\Python311\\Lib\\site-packages\\keras\\src\\engine\\training.py\", line 2425, in step_function  **\n        outputs = model.distribute_strategy.run(run_step, args=(data,))\n    File \"c:\\Users\\이재헌\\AppData\\Local\\Programs\\Python\\Python311\\Lib\\site-packages\\keras\\src\\engine\\training.py\", line 2413, in run_step  **\n        outputs = model.predict_step(data)\n    File \"c:\\Users\\이재헌\\AppData\\Local\\Programs\\Python\\Python311\\Lib\\site-packages\\keras\\src\\engine\\training.py\", line 2381, in predict_step\n        return self(x, training=False)\n    File \"c:\\Users\\이재헌\\AppData\\Local\\Programs\\Python\\Python311\\Lib\\site-packages\\keras\\src\\utils\\traceback_utils.py\", line 70, in error_handler\n        raise e.with_traceback(filtered_tb) from None\n    File \"c:\\Users\\이재헌\\AppData\\Local\\Programs\\Python\\Python311\\Lib\\site-packages\\keras\\src\\engine\\input_spec.py\", line 298, in assert_input_compatibility\n        raise ValueError(\n\n    ValueError: Input 0 of layer \"model_2\" is incompatible with the layer: expected shape=(None, 400, 400, 3), found shape=(None, 500, 3)\n"
     ]
    }
   ],
   "source": [
    "cat = plt.imread('./cat.jpg')\n",
    "print(model.predict([cat]))"
   ]
  }
 ],
 "metadata": {
  "kernelspec": {
   "display_name": "Python 3",
   "language": "python",
   "name": "python3"
  },
  "language_info": {
   "codemirror_mode": {
    "name": "ipython",
    "version": 3
   },
   "file_extension": ".py",
   "mimetype": "text/x-python",
   "name": "python",
   "nbconvert_exporter": "python",
   "pygments_lexer": "ipython3",
   "version": "3.11.2"
  }
 },
 "nbformat": 4,
 "nbformat_minor": 2
}
