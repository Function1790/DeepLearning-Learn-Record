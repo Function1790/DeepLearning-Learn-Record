{
 "cells": [
  {
   "cell_type": "code",
   "execution_count": 8,
   "metadata": {},
   "outputs": [],
   "source": [
    "from tensorflow import keras as k\n",
    "from tensorflow.keras.layers import *\n",
    "import pandas as pd\n",
    "import matplotlib.pyplot as plt"
   ]
  },
  {
   "cell_type": "code",
   "execution_count": 10,
   "metadata": {},
   "outputs": [
    {
     "name": "stdout",
     "output_type": "stream",
     "text": [
      "(50000, 32, 32, 3) (50000, 1)\n",
      "(50000, 32, 32, 3) (50000, 10)\n"
     ]
    }
   ],
   "source": [
    "# Cifat 10 -> 다른 환경\n",
    "(x, y), _ = k.datasets.cifar10.load_data()\n",
    "print(x.shape, y.shape)\n",
    "\n",
    "y = pd.get_dummies(y.reshape(50000))\n",
    "print(x.shape, y.shape)"
   ]
  },
  {
   "cell_type": "code",
   "execution_count": null,
   "metadata": {},
   "outputs": [],
   "source": [
    "X = Input(shape=[32, 32, 3])\n",
    "H = Conv2D(6, kernel_size=5, activation=\"swish\")(X)\n",
    "H = MaxPool2D()(H)\n",
    "H = Conv2D(16, kernel_size=5, activation=\"swish\")(X)\n",
    "H = MaxPool2D()(H)\n",
    "H = Flatten()(H)\n",
    "H = Dense(120, activation='swish')(H)\n",
    "H = Dense(84, activation='swish')(H)\n",
    "Y = Dense(10, activation='softmax')(H)\n",
    "model = k.models.Model(X, Y)\n",
    "model.compile(loss='categorical_crossentropy', metrics=['accuracy'])"
   ]
  },
  {
   "cell_type": "code",
   "execution_count": null,
   "metadata": {},
   "outputs": [],
   "source": [
    "model.fit(x, y, epochs=15)"
   ]
  },
  {
   "cell_type": "code",
   "execution_count": null,
   "metadata": {},
   "outputs": [],
   "source": []
  }
 ],
 "metadata": {
  "kernelspec": {
   "display_name": "Python 3",
   "language": "python",
   "name": "python3"
  },
  "language_info": {
   "codemirror_mode": {
    "name": "ipython",
    "version": 3
   },
   "file_extension": ".py",
   "mimetype": "text/x-python",
   "name": "python",
   "nbconvert_exporter": "python",
   "pygments_lexer": "ipython3",
   "version": "3.11.2"
  }
 },
 "nbformat": 4,
 "nbformat_minor": 2
}
